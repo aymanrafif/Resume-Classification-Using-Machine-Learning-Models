{
 "cells": [
  {
   "cell_type": "markdown",
   "metadata": {},
   "source": [
    "Text Mining AOL\n",
    "\n",
    "Group 8:\n",
    "- 2502004102 - Musyaffa Ayman Rafif\n",
    "- 2501987772 - Salomo Hendrian Sudjono\n",
    "- 2501996505 - Grace Shirley Cam"
   ]
  },
  {
   "cell_type": "markdown",
   "metadata": {},
   "source": [
    "# Resume Classification using Machine Learning Models"
   ]
  },
  {
   "cell_type": "markdown",
   "metadata": {},
   "source": [
    "## 1. Setup Notebook"
   ]
  },
  {
   "cell_type": "code",
   "execution_count": 3,
   "metadata": {},
   "outputs": [],
   "source": [
    "import pandas as pd\n",
    "import numpy as np\n",
    "import matplotlib.pyplot as plt\n",
    "import seaborn as sns\n",
    "import re\n",
    "\n",
    "from wordcloud import WordCloud\n",
    "from wordcloud import STOPWORDS\n",
    "\n",
    "import nltk\n",
    "from nltk.stem import PorterStemmer\n",
    "from nltk.stem import SnowballStemmer\n",
    "from nltk.corpus import stopwords\n",
    "from nltk.tokenize import word_tokenize\n",
    "import gensim\n",
    "from sklearn.feature_extraction.text import TfidfVectorizer\n",
    "\n",
    "from sklearn.model_selection import train_test_split\n",
    "from sklearn.metrics import accuracy_score, precision_score, recall_score, f1_score\n",
    "from sklearn.metrics import classification_report\n",
    "from sklearn.model_selection import StratifiedKFold\n",
    "\n",
    "from sklearn.svm import SVC\n",
    "from sklearn.linear_model import LogisticRegression\n",
    "from sklearn.tree import DecisionTreeClassifier\n",
    "from sklearn.ensemble import RandomForestClassifier\n",
    "from sklearn.neighbors import KNeighborsClassifier\n",
    "from sklearn.neural_network import MLPClassifier\n",
    "\n",
    "from yellowbrick.model_selection import LearningCurve"
   ]
  },
  {
   "cell_type": "code",
   "execution_count": 4,
   "metadata": {},
   "outputs": [],
   "source": [
    "df = pd.read_csv('data/Resume.csv')"
   ]
  },
  {
   "cell_type": "markdown",
   "metadata": {},
   "source": [
    "## 2. Data Preprocessing"
   ]
  },
  {
   "cell_type": "code",
   "execution_count": 5,
   "metadata": {},
   "outputs": [
    {
     "data": {
      "text/html": [
       "<div>\n",
       "<style scoped>\n",
       "    .dataframe tbody tr th:only-of-type {\n",
       "        vertical-align: middle;\n",
       "    }\n",
       "\n",
       "    .dataframe tbody tr th {\n",
       "        vertical-align: top;\n",
       "    }\n",
       "\n",
       "    .dataframe thead th {\n",
       "        text-align: right;\n",
       "    }\n",
       "</style>\n",
       "<table border=\"1\" class=\"dataframe\">\n",
       "  <thead>\n",
       "    <tr style=\"text-align: right;\">\n",
       "      <th></th>\n",
       "      <th>ID</th>\n",
       "      <th>Resume_str</th>\n",
       "      <th>Resume_html</th>\n",
       "      <th>Category</th>\n",
       "    </tr>\n",
       "  </thead>\n",
       "  <tbody>\n",
       "    <tr>\n",
       "      <th>0</th>\n",
       "      <td>16852973</td>\n",
       "      <td>HR ADMINISTRATOR/MARKETING ASSOCIATE\\...</td>\n",
       "      <td>&lt;div class=\"fontsize fontface vmargins hmargin...</td>\n",
       "      <td>HR</td>\n",
       "    </tr>\n",
       "    <tr>\n",
       "      <th>1</th>\n",
       "      <td>22323967</td>\n",
       "      <td>HR SPECIALIST, US HR OPERATIONS      ...</td>\n",
       "      <td>&lt;div class=\"fontsize fontface vmargins hmargin...</td>\n",
       "      <td>HR</td>\n",
       "    </tr>\n",
       "    <tr>\n",
       "      <th>2</th>\n",
       "      <td>33176873</td>\n",
       "      <td>HR DIRECTOR       Summary      Over 2...</td>\n",
       "      <td>&lt;div class=\"fontsize fontface vmargins hmargin...</td>\n",
       "      <td>HR</td>\n",
       "    </tr>\n",
       "    <tr>\n",
       "      <th>3</th>\n",
       "      <td>27018550</td>\n",
       "      <td>HR SPECIALIST       Summary    Dedica...</td>\n",
       "      <td>&lt;div class=\"fontsize fontface vmargins hmargin...</td>\n",
       "      <td>HR</td>\n",
       "    </tr>\n",
       "    <tr>\n",
       "      <th>4</th>\n",
       "      <td>17812897</td>\n",
       "      <td>HR MANAGER         Skill Highlights  ...</td>\n",
       "      <td>&lt;div class=\"fontsize fontface vmargins hmargin...</td>\n",
       "      <td>HR</td>\n",
       "    </tr>\n",
       "  </tbody>\n",
       "</table>\n",
       "</div>"
      ],
      "text/plain": [
       "         ID                                         Resume_str  \\\n",
       "0  16852973           HR ADMINISTRATOR/MARKETING ASSOCIATE\\...   \n",
       "1  22323967           HR SPECIALIST, US HR OPERATIONS      ...   \n",
       "2  33176873           HR DIRECTOR       Summary      Over 2...   \n",
       "3  27018550           HR SPECIALIST       Summary    Dedica...   \n",
       "4  17812897           HR MANAGER         Skill Highlights  ...   \n",
       "\n",
       "                                         Resume_html Category  \n",
       "0  <div class=\"fontsize fontface vmargins hmargin...       HR  \n",
       "1  <div class=\"fontsize fontface vmargins hmargin...       HR  \n",
       "2  <div class=\"fontsize fontface vmargins hmargin...       HR  \n",
       "3  <div class=\"fontsize fontface vmargins hmargin...       HR  \n",
       "4  <div class=\"fontsize fontface vmargins hmargin...       HR  "
      ]
     },
     "execution_count": 5,
     "metadata": {},
     "output_type": "execute_result"
    }
   ],
   "source": [
    "df.head()"
   ]
  },
  {
   "cell_type": "code",
   "execution_count": 6,
   "metadata": {},
   "outputs": [
    {
     "data": {
      "text/html": [
       "<div>\n",
       "<style scoped>\n",
       "    .dataframe tbody tr th:only-of-type {\n",
       "        vertical-align: middle;\n",
       "    }\n",
       "\n",
       "    .dataframe tbody tr th {\n",
       "        vertical-align: top;\n",
       "    }\n",
       "\n",
       "    .dataframe thead th {\n",
       "        text-align: right;\n",
       "    }\n",
       "</style>\n",
       "<table border=\"1\" class=\"dataframe\">\n",
       "  <thead>\n",
       "    <tr style=\"text-align: right;\">\n",
       "      <th></th>\n",
       "      <th>Resume_str</th>\n",
       "      <th>Category</th>\n",
       "    </tr>\n",
       "  </thead>\n",
       "  <tbody>\n",
       "    <tr>\n",
       "      <th>0</th>\n",
       "      <td>HR ADMINISTRATOR/MARKETING ASSOCIATE\\...</td>\n",
       "      <td>HR</td>\n",
       "    </tr>\n",
       "    <tr>\n",
       "      <th>1</th>\n",
       "      <td>HR SPECIALIST, US HR OPERATIONS      ...</td>\n",
       "      <td>HR</td>\n",
       "    </tr>\n",
       "    <tr>\n",
       "      <th>2</th>\n",
       "      <td>HR DIRECTOR       Summary      Over 2...</td>\n",
       "      <td>HR</td>\n",
       "    </tr>\n",
       "    <tr>\n",
       "      <th>3</th>\n",
       "      <td>HR SPECIALIST       Summary    Dedica...</td>\n",
       "      <td>HR</td>\n",
       "    </tr>\n",
       "    <tr>\n",
       "      <th>4</th>\n",
       "      <td>HR MANAGER         Skill Highlights  ...</td>\n",
       "      <td>HR</td>\n",
       "    </tr>\n",
       "  </tbody>\n",
       "</table>\n",
       "</div>"
      ],
      "text/plain": [
       "                                          Resume_str Category\n",
       "0           HR ADMINISTRATOR/MARKETING ASSOCIATE\\...       HR\n",
       "1           HR SPECIALIST, US HR OPERATIONS      ...       HR\n",
       "2           HR DIRECTOR       Summary      Over 2...       HR\n",
       "3           HR SPECIALIST       Summary    Dedica...       HR\n",
       "4           HR MANAGER         Skill Highlights  ...       HR"
      ]
     },
     "execution_count": 6,
     "metadata": {},
     "output_type": "execute_result"
    }
   ],
   "source": [
    "selected_columns = ['Resume_str', 'Category']\n",
    "df = df[selected_columns]\n",
    "df.head()"
   ]
  },
  {
   "cell_type": "markdown",
   "metadata": {},
   "source": [
    "### Data Cleaning"
   ]
  },
  {
   "cell_type": "code",
   "execution_count": 7,
   "metadata": {},
   "outputs": [],
   "source": [
    "def text_cleansing(df):\n",
    "    df_clean = [text.lower() for text in df]\n",
    "    df_clean = [re.sub(r\"\\d+\", \"\", text) for text in df_clean]\n",
    "    df_clean = [re.sub(r'[^\\w]', ' ', text) for text in df_clean]\n",
    "    df_clean = [re.sub(r'\\s+', ' ', text) for text in df_clean]\n",
    "    return df_clean\n"
   ]
  },
  {
   "cell_type": "code",
   "execution_count": 8,
   "metadata": {},
   "outputs": [],
   "source": [
    "df['Cleaned_text'] = text_cleansing(df['Resume_str'])"
   ]
  },
  {
   "cell_type": "code",
   "execution_count": 9,
   "metadata": {},
   "outputs": [
    {
     "data": {
      "text/html": [
       "<div>\n",
       "<style scoped>\n",
       "    .dataframe tbody tr th:only-of-type {\n",
       "        vertical-align: middle;\n",
       "    }\n",
       "\n",
       "    .dataframe tbody tr th {\n",
       "        vertical-align: top;\n",
       "    }\n",
       "\n",
       "    .dataframe thead th {\n",
       "        text-align: right;\n",
       "    }\n",
       "</style>\n",
       "<table border=\"1\" class=\"dataframe\">\n",
       "  <thead>\n",
       "    <tr style=\"text-align: right;\">\n",
       "      <th></th>\n",
       "      <th>Resume_str</th>\n",
       "      <th>Category</th>\n",
       "      <th>Cleaned_text</th>\n",
       "    </tr>\n",
       "  </thead>\n",
       "  <tbody>\n",
       "    <tr>\n",
       "      <th>0</th>\n",
       "      <td>HR ADMINISTRATOR/MARKETING ASSOCIATE\\...</td>\n",
       "      <td>HR</td>\n",
       "      <td>hr administrator marketing associate hr admin...</td>\n",
       "    </tr>\n",
       "    <tr>\n",
       "      <th>1</th>\n",
       "      <td>HR SPECIALIST, US HR OPERATIONS      ...</td>\n",
       "      <td>HR</td>\n",
       "      <td>hr specialist us hr operations summary versat...</td>\n",
       "    </tr>\n",
       "    <tr>\n",
       "      <th>2</th>\n",
       "      <td>HR DIRECTOR       Summary      Over 2...</td>\n",
       "      <td>HR</td>\n",
       "      <td>hr director summary over years experience in ...</td>\n",
       "    </tr>\n",
       "    <tr>\n",
       "      <th>3</th>\n",
       "      <td>HR SPECIALIST       Summary    Dedica...</td>\n",
       "      <td>HR</td>\n",
       "      <td>hr specialist summary dedicated driven and dy...</td>\n",
       "    </tr>\n",
       "    <tr>\n",
       "      <th>4</th>\n",
       "      <td>HR MANAGER         Skill Highlights  ...</td>\n",
       "      <td>HR</td>\n",
       "      <td>hr manager skill highlights hr skills hr depa...</td>\n",
       "    </tr>\n",
       "  </tbody>\n",
       "</table>\n",
       "</div>"
      ],
      "text/plain": [
       "                                          Resume_str Category  \\\n",
       "0           HR ADMINISTRATOR/MARKETING ASSOCIATE\\...       HR   \n",
       "1           HR SPECIALIST, US HR OPERATIONS      ...       HR   \n",
       "2           HR DIRECTOR       Summary      Over 2...       HR   \n",
       "3           HR SPECIALIST       Summary    Dedica...       HR   \n",
       "4           HR MANAGER         Skill Highlights  ...       HR   \n",
       "\n",
       "                                        Cleaned_text  \n",
       "0   hr administrator marketing associate hr admin...  \n",
       "1   hr specialist us hr operations summary versat...  \n",
       "2   hr director summary over years experience in ...  \n",
       "3   hr specialist summary dedicated driven and dy...  \n",
       "4   hr manager skill highlights hr skills hr depa...  "
      ]
     },
     "execution_count": 9,
     "metadata": {},
     "output_type": "execute_result"
    }
   ],
   "source": [
    "df.head()"
   ]
  },
  {
   "cell_type": "code",
   "execution_count": 17,
   "metadata": {},
   "outputs": [
    {
     "data": {
      "text/html": [
       "<div>\n",
       "<style scoped>\n",
       "    .dataframe tbody tr th:only-of-type {\n",
       "        vertical-align: middle;\n",
       "    }\n",
       "\n",
       "    .dataframe tbody tr th {\n",
       "        vertical-align: top;\n",
       "    }\n",
       "\n",
       "    .dataframe thead th {\n",
       "        text-align: right;\n",
       "    }\n",
       "</style>\n",
       "<table border=\"1\" class=\"dataframe\">\n",
       "  <thead>\n",
       "    <tr style=\"text-align: right;\">\n",
       "      <th></th>\n",
       "      <th>Cleaned_text</th>\n",
       "      <th>Category</th>\n",
       "    </tr>\n",
       "  </thead>\n",
       "  <tbody>\n",
       "    <tr>\n",
       "      <th>0</th>\n",
       "      <td>hr administrator marketing associate hr admin...</td>\n",
       "      <td>HR</td>\n",
       "    </tr>\n",
       "    <tr>\n",
       "      <th>1</th>\n",
       "      <td>hr specialist us hr operations summary versat...</td>\n",
       "      <td>HR</td>\n",
       "    </tr>\n",
       "    <tr>\n",
       "      <th>2</th>\n",
       "      <td>hr director summary over years experience in ...</td>\n",
       "      <td>HR</td>\n",
       "    </tr>\n",
       "    <tr>\n",
       "      <th>3</th>\n",
       "      <td>hr specialist summary dedicated driven and dy...</td>\n",
       "      <td>HR</td>\n",
       "    </tr>\n",
       "    <tr>\n",
       "      <th>4</th>\n",
       "      <td>hr manager skill highlights hr skills hr depa...</td>\n",
       "      <td>HR</td>\n",
       "    </tr>\n",
       "  </tbody>\n",
       "</table>\n",
       "</div>"
      ],
      "text/plain": [
       "                                        Cleaned_text Category\n",
       "0   hr administrator marketing associate hr admin...       HR\n",
       "1   hr specialist us hr operations summary versat...       HR\n",
       "2   hr director summary over years experience in ...       HR\n",
       "3   hr specialist summary dedicated driven and dy...       HR\n",
       "4   hr manager skill highlights hr skills hr depa...       HR"
      ]
     },
     "execution_count": 17,
     "metadata": {},
     "output_type": "execute_result"
    }
   ],
   "source": [
    "cleaned_columns = ['Cleaned_text', 'Category']\n",
    "df_cleaned = df[cleaned_columns]\n",
    "df_cleaned.head()"
   ]
  },
  {
   "cell_type": "code",
   "execution_count": 11,
   "metadata": {},
   "outputs": [],
   "source": [
    "df_cleaned.to_csv('data/Resume_clean.csv') # Save dulu"
   ]
  },
  {
   "cell_type": "markdown",
   "metadata": {},
   "source": [
    "### Tokenization"
   ]
  },
  {
   "cell_type": "code",
   "execution_count": 18,
   "metadata": {},
   "outputs": [
    {
     "name": "stderr",
     "output_type": "stream",
     "text": [
      "/home/ubuntu/anaconda3/lib/python3.7/site-packages/ipykernel_launcher.py:3: SettingWithCopyWarning: \n",
      "A value is trying to be set on a copy of a slice from a DataFrame.\n",
      "Try using .loc[row_indexer,col_indexer] = value instead\n",
      "\n",
      "See the caveats in the documentation: https://pandas.pydata.org/pandas-docs/stable/user_guide/indexing.html#returning-a-view-versus-a-copy\n",
      "  This is separate from the ipykernel package so we can avoid doing imports until\n"
     ]
    },
    {
     "data": {
      "text/html": [
       "<div>\n",
       "<style scoped>\n",
       "    .dataframe tbody tr th:only-of-type {\n",
       "        vertical-align: middle;\n",
       "    }\n",
       "\n",
       "    .dataframe tbody tr th {\n",
       "        vertical-align: top;\n",
       "    }\n",
       "\n",
       "    .dataframe thead th {\n",
       "        text-align: right;\n",
       "    }\n",
       "</style>\n",
       "<table border=\"1\" class=\"dataframe\">\n",
       "  <thead>\n",
       "    <tr style=\"text-align: right;\">\n",
       "      <th></th>\n",
       "      <th>Cleaned_text</th>\n",
       "      <th>Category</th>\n",
       "    </tr>\n",
       "  </thead>\n",
       "  <tbody>\n",
       "    <tr>\n",
       "      <th>0</th>\n",
       "      <td>[hr, administrator, marketing, associate, hr, ...</td>\n",
       "      <td>HR</td>\n",
       "    </tr>\n",
       "    <tr>\n",
       "      <th>1</th>\n",
       "      <td>[hr, specialist, us, hr, operations, summary, ...</td>\n",
       "      <td>HR</td>\n",
       "    </tr>\n",
       "    <tr>\n",
       "      <th>2</th>\n",
       "      <td>[hr, director, summary, over, years, experienc...</td>\n",
       "      <td>HR</td>\n",
       "    </tr>\n",
       "    <tr>\n",
       "      <th>3</th>\n",
       "      <td>[hr, specialist, summary, dedicated, driven, a...</td>\n",
       "      <td>HR</td>\n",
       "    </tr>\n",
       "    <tr>\n",
       "      <th>4</th>\n",
       "      <td>[hr, manager, skill, highlights, hr, skills, h...</td>\n",
       "      <td>HR</td>\n",
       "    </tr>\n",
       "  </tbody>\n",
       "</table>\n",
       "</div>"
      ],
      "text/plain": [
       "                                        Cleaned_text Category\n",
       "0  [hr, administrator, marketing, associate, hr, ...       HR\n",
       "1  [hr, specialist, us, hr, operations, summary, ...       HR\n",
       "2  [hr, director, summary, over, years, experienc...       HR\n",
       "3  [hr, specialist, summary, dedicated, driven, a...       HR\n",
       "4  [hr, manager, skill, highlights, hr, skills, h...       HR"
      ]
     },
     "execution_count": 18,
     "metadata": {},
     "output_type": "execute_result"
    }
   ],
   "source": [
    "def word_tokenize_wrapper(text):\n",
    " return word_tokenize(text)\n",
    "df_cleaned['Cleaned_text'] = df_cleaned['Cleaned_text'].apply(word_tokenize_wrapper)\n",
    "df_cleaned.head()"
   ]
  },
  {
   "cell_type": "markdown",
   "metadata": {},
   "source": [
    "### Remove Stopwords"
   ]
  },
  {
   "cell_type": "code",
   "execution_count": 19,
   "metadata": {},
   "outputs": [
    {
     "name": "stderr",
     "output_type": "stream",
     "text": [
      "/home/ubuntu/anaconda3/lib/python3.7/site-packages/ipykernel_launcher.py:6: SettingWithCopyWarning: \n",
      "A value is trying to be set on a copy of a slice from a DataFrame.\n",
      "Try using .loc[row_indexer,col_indexer] = value instead\n",
      "\n",
      "See the caveats in the documentation: https://pandas.pydata.org/pandas-docs/stable/user_guide/indexing.html#returning-a-view-versus-a-copy\n",
      "  \n"
     ]
    },
    {
     "data": {
      "text/html": [
       "<div>\n",
       "<style scoped>\n",
       "    .dataframe tbody tr th:only-of-type {\n",
       "        vertical-align: middle;\n",
       "    }\n",
       "\n",
       "    .dataframe tbody tr th {\n",
       "        vertical-align: top;\n",
       "    }\n",
       "\n",
       "    .dataframe thead th {\n",
       "        text-align: right;\n",
       "    }\n",
       "</style>\n",
       "<table border=\"1\" class=\"dataframe\">\n",
       "  <thead>\n",
       "    <tr style=\"text-align: right;\">\n",
       "      <th></th>\n",
       "      <th>Cleaned_text</th>\n",
       "      <th>Category</th>\n",
       "    </tr>\n",
       "  </thead>\n",
       "  <tbody>\n",
       "    <tr>\n",
       "      <th>0</th>\n",
       "      <td>[hr, administrator, marketing, associate, hr, ...</td>\n",
       "      <td>HR</td>\n",
       "    </tr>\n",
       "    <tr>\n",
       "      <th>1</th>\n",
       "      <td>[hr, specialist, us, hr, operations, summary, ...</td>\n",
       "      <td>HR</td>\n",
       "    </tr>\n",
       "    <tr>\n",
       "      <th>2</th>\n",
       "      <td>[hr, director, summary, years, experience, rec...</td>\n",
       "      <td>HR</td>\n",
       "    </tr>\n",
       "    <tr>\n",
       "      <th>3</th>\n",
       "      <td>[hr, specialist, summary, dedicated, driven, d...</td>\n",
       "      <td>HR</td>\n",
       "    </tr>\n",
       "    <tr>\n",
       "      <th>4</th>\n",
       "      <td>[hr, manager, skill, highlights, hr, skills, h...</td>\n",
       "      <td>HR</td>\n",
       "    </tr>\n",
       "  </tbody>\n",
       "</table>\n",
       "</div>"
      ],
      "text/plain": [
       "                                        Cleaned_text Category\n",
       "0  [hr, administrator, marketing, associate, hr, ...       HR\n",
       "1  [hr, specialist, us, hr, operations, summary, ...       HR\n",
       "2  [hr, director, summary, years, experience, rec...       HR\n",
       "3  [hr, specialist, summary, dedicated, driven, d...       HR\n",
       "4  [hr, manager, skill, highlights, hr, skills, h...       HR"
      ]
     },
     "execution_count": 19,
     "metadata": {},
     "output_type": "execute_result"
    }
   ],
   "source": [
    "list_stopwords = stopwords.words('english')\n",
    "\n",
    "def stopwords_removal(words):\n",
    "    return [word for word in words if word not in list_stopwords]\n",
    "\n",
    "df_cleaned['Cleaned_text'] = df_cleaned['Cleaned_text'].apply(stopwords_removal)\n",
    "df_cleaned.head()"
   ]
  },
  {
   "cell_type": "markdown",
   "metadata": {},
   "source": [
    "### Stemming"
   ]
  },
  {
   "cell_type": "code",
   "execution_count": 20,
   "metadata": {},
   "outputs": [
    {
     "name": "stderr",
     "output_type": "stream",
     "text": [
      "/home/ubuntu/anaconda3/lib/python3.7/site-packages/ipykernel_launcher.py:12: SettingWithCopyWarning: \n",
      "A value is trying to be set on a copy of a slice from a DataFrame.\n",
      "Try using .loc[row_indexer,col_indexer] = value instead\n",
      "\n",
      "See the caveats in the documentation: https://pandas.pydata.org/pandas-docs/stable/user_guide/indexing.html#returning-a-view-versus-a-copy\n",
      "  if sys.path[0] == '':\n"
     ]
    },
    {
     "data": {
      "text/html": [
       "<div>\n",
       "<style scoped>\n",
       "    .dataframe tbody tr th:only-of-type {\n",
       "        vertical-align: middle;\n",
       "    }\n",
       "\n",
       "    .dataframe tbody tr th {\n",
       "        vertical-align: top;\n",
       "    }\n",
       "\n",
       "    .dataframe thead th {\n",
       "        text-align: right;\n",
       "    }\n",
       "</style>\n",
       "<table border=\"1\" class=\"dataframe\">\n",
       "  <thead>\n",
       "    <tr style=\"text-align: right;\">\n",
       "      <th></th>\n",
       "      <th>Cleaned_text</th>\n",
       "      <th>Category</th>\n",
       "    </tr>\n",
       "  </thead>\n",
       "  <tbody>\n",
       "    <tr>\n",
       "      <th>0</th>\n",
       "      <td>hr administr market associ hr administr summar...</td>\n",
       "      <td>HR</td>\n",
       "    </tr>\n",
       "    <tr>\n",
       "      <th>1</th>\n",
       "      <td>hr specialist us hr oper summari versatil medi...</td>\n",
       "      <td>HR</td>\n",
       "    </tr>\n",
       "    <tr>\n",
       "      <th>2</th>\n",
       "      <td>hr director summari year experi recruit plus y...</td>\n",
       "      <td>HR</td>\n",
       "    </tr>\n",
       "    <tr>\n",
       "      <th>3</th>\n",
       "      <td>hr specialist summari dedic driven dynam year ...</td>\n",
       "      <td>HR</td>\n",
       "    </tr>\n",
       "    <tr>\n",
       "      <th>4</th>\n",
       "      <td>hr manag skill highlight hr skill hr depart st...</td>\n",
       "      <td>HR</td>\n",
       "    </tr>\n",
       "  </tbody>\n",
       "</table>\n",
       "</div>"
      ],
      "text/plain": [
       "                                        Cleaned_text Category\n",
       "0  hr administr market associ hr administr summar...       HR\n",
       "1  hr specialist us hr oper summari versatil medi...       HR\n",
       "2  hr director summari year experi recruit plus y...       HR\n",
       "3  hr specialist summari dedic driven dynam year ...       HR\n",
       "4  hr manag skill highlight hr skill hr depart st...       HR"
      ]
     },
     "execution_count": 20,
     "metadata": {},
     "output_type": "execute_result"
    }
   ],
   "source": [
    "stemmer_ss = SnowballStemmer(\"english\")\n",
    "\n",
    "def stemming(tokens):\n",
    "    do = []\n",
    "    for w in tokens:\n",
    "        dt = stemmer_ss.stem(w)\n",
    "        do.append(dt)\n",
    "    d_clean=[]\n",
    "    d_clean=\" \".join(do)\n",
    "    return d_clean\n",
    "\n",
    "df_cleaned['Cleaned_text'] = df_cleaned['Cleaned_text'].apply(lambda tokens: stemming(tokens))\n",
    "\n",
    "df_cleaned.head()"
   ]
  },
  {
   "cell_type": "code",
   "execution_count": null,
   "metadata": {},
   "outputs": [
    {
     "data": {
      "text/plain": [
       "INFORMATION-TECHNOLOGY    120\n",
       "BUSINESS-DEVELOPMENT      120\n",
       "FINANCE                   118\n",
       "ADVOCATE                  118\n",
       "ACCOUNTANT                118\n",
       "ENGINEERING               118\n",
       "CHEF                      118\n",
       "AVIATION                  117\n",
       "FITNESS                   117\n",
       "SALES                     116\n",
       "BANKING                   115\n",
       "HEALTHCARE                115\n",
       "CONSULTANT                115\n",
       "CONSTRUCTION              112\n",
       "PUBLIC-RELATIONS          111\n",
       "HR                        110\n",
       "DESIGNER                  107\n",
       "ARTS                      103\n",
       "TEACHER                   102\n",
       "APPAREL                    97\n",
       "DIGITAL-MEDIA              96\n",
       "AGRICULTURE                63\n",
       "AUTOMOBILE                 36\n",
       "BPO                        22\n",
       "Name: Category, dtype: int64"
      ]
     },
     "execution_count": 15,
     "metadata": {},
     "output_type": "execute_result"
    }
   ],
   "source": [
    "df_cleaned['Category'].value_counts()"
   ]
  },
  {
   "cell_type": "markdown",
   "metadata": {},
   "source": [
    "### Label Encoding"
   ]
  },
  {
   "cell_type": "code",
   "execution_count": 21,
   "metadata": {},
   "outputs": [],
   "source": [
    "label_to_numeric = {\n",
    "    'INFORMATION-TECHNOLOGY': 1,\n",
    "    'BUSINESS-DEVELOPMENT': 2,\n",
    "    'FINANCE': 3,\n",
    "    'ADVOCATE': 4,\n",
    "    'ACCOUNTANT': 5,\n",
    "    'ENGINEERING': 6,\n",
    "    'CHEF': 7,\n",
    "    'AVIATION': 8,\n",
    "    'FITNESS': 9,\n",
    "    'SALES': 10,\n",
    "    'BANKING': 11,\n",
    "    'HEALTHCARE': 12,\n",
    "    'CONSULTANT': 13,\n",
    "    'CONSTRUCTION': 14,\n",
    "    'PUBLIC-RELATIONS': 15,\n",
    "    'HR': 16,\n",
    "    'DESIGNER': 17,\n",
    "    'ARTS': 18,\n",
    "    'TEACHER': 19,\n",
    "    'APPAREL': 20,\n",
    "    'DIGITAL-MEDIA': 21,\n",
    "    'AGRICULTURE': 22,\n",
    "    'AUTOMOBILE': 23,\n",
    "    'BPO': 24\n",
    "}\n",
    "\n",
    "df_cleaned['Labeled_category'] = df_cleaned['Category'].map(label_to_numeric)"
   ]
  },
  {
   "cell_type": "code",
   "execution_count": null,
   "metadata": {},
   "outputs": [
    {
     "data": {
      "text/plain": [
       "1     120\n",
       "2     120\n",
       "3     118\n",
       "4     118\n",
       "5     118\n",
       "6     118\n",
       "7     118\n",
       "8     117\n",
       "9     117\n",
       "10    116\n",
       "11    115\n",
       "12    115\n",
       "13    115\n",
       "14    112\n",
       "15    111\n",
       "16    110\n",
       "17    107\n",
       "18    103\n",
       "19    102\n",
       "20     97\n",
       "21     96\n",
       "22     63\n",
       "23     36\n",
       "24     22\n",
       "Name: Labeled_category, dtype: int64"
      ]
     },
     "execution_count": 111,
     "metadata": {},
     "output_type": "execute_result"
    }
   ],
   "source": [
    "df_cleaned['Labeled_category'].value_counts()"
   ]
  },
  {
   "cell_type": "code",
   "execution_count": null,
   "metadata": {},
   "outputs": [
    {
     "data": {
      "text/html": [
       "<div>\n",
       "<style scoped>\n",
       "    .dataframe tbody tr th:only-of-type {\n",
       "        vertical-align: middle;\n",
       "    }\n",
       "\n",
       "    .dataframe tbody tr th {\n",
       "        vertical-align: top;\n",
       "    }\n",
       "\n",
       "    .dataframe thead th {\n",
       "        text-align: right;\n",
       "    }\n",
       "</style>\n",
       "<table border=\"1\" class=\"dataframe\">\n",
       "  <thead>\n",
       "    <tr style=\"text-align: right;\">\n",
       "      <th></th>\n",
       "      <th>Cleaned_text</th>\n",
       "      <th>Category</th>\n",
       "      <th>Labeled_category</th>\n",
       "    </tr>\n",
       "  </thead>\n",
       "  <tbody>\n",
       "    <tr>\n",
       "      <th>0</th>\n",
       "      <td>hr administr market associ hr administr summar...</td>\n",
       "      <td>HR</td>\n",
       "      <td>16</td>\n",
       "    </tr>\n",
       "    <tr>\n",
       "      <th>1</th>\n",
       "      <td>hr specialist us hr oper summari versatil medi...</td>\n",
       "      <td>HR</td>\n",
       "      <td>16</td>\n",
       "    </tr>\n",
       "    <tr>\n",
       "      <th>2</th>\n",
       "      <td>hr director summari year experi recruit plus y...</td>\n",
       "      <td>HR</td>\n",
       "      <td>16</td>\n",
       "    </tr>\n",
       "    <tr>\n",
       "      <th>3</th>\n",
       "      <td>hr specialist summari dedic driven dynam year ...</td>\n",
       "      <td>HR</td>\n",
       "      <td>16</td>\n",
       "    </tr>\n",
       "    <tr>\n",
       "      <th>4</th>\n",
       "      <td>hr manag skill highlight hr skill hr depart st...</td>\n",
       "      <td>HR</td>\n",
       "      <td>16</td>\n",
       "    </tr>\n",
       "    <tr>\n",
       "      <th>...</th>\n",
       "      <td>...</td>\n",
       "      <td>...</td>\n",
       "      <td>...</td>\n",
       "    </tr>\n",
       "    <tr>\n",
       "      <th>2479</th>\n",
       "      <td>rank sgt e non commiss offic charg brigad mail...</td>\n",
       "      <td>AVIATION</td>\n",
       "      <td>8</td>\n",
       "    </tr>\n",
       "    <tr>\n",
       "      <th>2480</th>\n",
       "      <td>govern relat communic organiz develop director...</td>\n",
       "      <td>AVIATION</td>\n",
       "      <td>8</td>\n",
       "    </tr>\n",
       "    <tr>\n",
       "      <th>2481</th>\n",
       "      <td>geek squad agent profession profil support spe...</td>\n",
       "      <td>AVIATION</td>\n",
       "      <td>8</td>\n",
       "    </tr>\n",
       "    <tr>\n",
       "      <th>2482</th>\n",
       "      <td>program director offic manag summari high pers...</td>\n",
       "      <td>AVIATION</td>\n",
       "      <td>8</td>\n",
       "    </tr>\n",
       "    <tr>\n",
       "      <th>2483</th>\n",
       "      <td>storekeep ii profession summari purpos documen...</td>\n",
       "      <td>AVIATION</td>\n",
       "      <td>8</td>\n",
       "    </tr>\n",
       "  </tbody>\n",
       "</table>\n",
       "<p>2484 rows × 3 columns</p>\n",
       "</div>"
      ],
      "text/plain": [
       "                                           Cleaned_text  Category  \\\n",
       "0     hr administr market associ hr administr summar...        HR   \n",
       "1     hr specialist us hr oper summari versatil medi...        HR   \n",
       "2     hr director summari year experi recruit plus y...        HR   \n",
       "3     hr specialist summari dedic driven dynam year ...        HR   \n",
       "4     hr manag skill highlight hr skill hr depart st...        HR   \n",
       "...                                                 ...       ...   \n",
       "2479  rank sgt e non commiss offic charg brigad mail...  AVIATION   \n",
       "2480  govern relat communic organiz develop director...  AVIATION   \n",
       "2481  geek squad agent profession profil support spe...  AVIATION   \n",
       "2482  program director offic manag summari high pers...  AVIATION   \n",
       "2483  storekeep ii profession summari purpos documen...  AVIATION   \n",
       "\n",
       "      Labeled_category  \n",
       "0                   16  \n",
       "1                   16  \n",
       "2                   16  \n",
       "3                   16  \n",
       "4                   16  \n",
       "...                ...  \n",
       "2479                 8  \n",
       "2480                 8  \n",
       "2481                 8  \n",
       "2482                 8  \n",
       "2483                 8  \n",
       "\n",
       "[2484 rows x 3 columns]"
      ]
     },
     "execution_count": 18,
     "metadata": {},
     "output_type": "execute_result"
    }
   ],
   "source": [
    "df_cleaned"
   ]
  },
  {
   "cell_type": "code",
   "execution_count": 24,
   "metadata": {},
   "outputs": [],
   "source": [
    "X_train, X_test, y_train, y_test = train_test_split(df_cleaned['Cleaned_text'], df_cleaned['Labeled_category'], test_size=0.3, random_state= 24, stratify=df_cleaned['Labeled_category'])"
   ]
  },
  {
   "cell_type": "code",
   "execution_count": null,
   "metadata": {},
   "outputs": [
    {
     "data": {
      "text/plain": [
       "1     36\n",
       "2     36\n",
       "9     35\n",
       "7     35\n",
       "13    35\n",
       "4     35\n",
       "6     35\n",
       "11    35\n",
       "8     35\n",
       "3     35\n",
       "5     35\n",
       "10    35\n",
       "12    35\n",
       "14    34\n",
       "15    33\n",
       "16    33\n",
       "17    32\n",
       "18    31\n",
       "19    31\n",
       "21    29\n",
       "20    29\n",
       "22    19\n",
       "23    11\n",
       "24     7\n",
       "Name: Labeled_category, dtype: int64"
      ]
     },
     "execution_count": 112,
     "metadata": {},
     "output_type": "execute_result"
    }
   ],
   "source": [
    "y_test.value_counts()"
   ]
  },
  {
   "cell_type": "code",
   "execution_count": 25,
   "metadata": {},
   "outputs": [
    {
     "name": "stdout",
     "output_type": "stream",
     "text": [
      "Feature Names: ['__' '_______' '___________________' ... 'òwaterfalló' 'último' 'ﬁlm']\n",
      "BoW Representation:\n",
      "[[0 0 0 ... 0 0 0]\n",
      " [0 0 0 ... 0 0 0]\n",
      " [0 0 0 ... 0 0 0]\n",
      " ...\n",
      " [0 0 0 ... 0 0 0]\n",
      " [0 0 0 ... 0 0 0]\n",
      " [0 0 0 ... 0 0 0]]\n"
     ]
    }
   ],
   "source": [
    "from sklearn.feature_extraction.text import CountVectorizer\n",
    "vectorizer_train = CountVectorizer()\n",
    "\n",
    "# Fit and transform the corpus to get the BoW representation\n",
    "X_train_bow = vectorizer_train.fit_transform(X_train)\n",
    "\n",
    "# Get the feature names (words) from the vocabulary\n",
    "feature_names = vectorizer_train.get_feature_names_out()\n",
    "\n",
    "# Convert the BoW matrix to a dense array for better readability\n",
    "bow_array_train = X_train_bow.toarray()\n",
    "\"\"\n",
    "# Display the BoW representation\n",
    "print(\"Feature Names:\", feature_names)\n",
    "print(\"BoW Representation:\")\n",
    "print(bow_array_train)"
   ]
  },
  {
   "cell_type": "code",
   "execution_count": 26,
   "metadata": {},
   "outputs": [
    {
     "name": "stdout",
     "output_type": "stream",
     "text": [
      "Feature Names: ['__' '_______' '___________________' ... 'òwaterfalló' 'último' 'ﬁlm']\n",
      "BoW Representation:\n",
      "[[0 0 0 ... 0 0 0]\n",
      " [0 0 0 ... 0 0 0]\n",
      " [0 0 0 ... 0 0 0]\n",
      " ...\n",
      " [0 0 0 ... 0 0 0]\n",
      " [0 0 0 ... 0 0 0]\n",
      " [0 0 0 ... 0 0 0]]\n"
     ]
    }
   ],
   "source": [
    "from sklearn.feature_extraction.text import CountVectorizer\n",
    "# vectorizer_test = CountVectorizer()\n",
    "\n",
    "# Fit and transform the corpus to get the BoW representation\n",
    "X_test_bow = vectorizer_train.transform(X_test)\n",
    "\n",
    "# Get the feature names (words) from the vocabulary\n",
    "vectorizer = CountVectorizer(vocabulary=vectorizer_train.get_feature_names_out())\n",
    "X_test_bow = vectorizer.transform(X_test)\n",
    "\n",
    "# Convert the BoW matrix to a dense array for better readability\n",
    "bow_array_test = X_test_bow.toarray()\n",
    "\n",
    "# Display the BoW representation\n",
    "print(\"Feature Names:\", feature_names)\n",
    "print(\"BoW Representation:\")\n",
    "print(bow_array_test)"
   ]
  },
  {
   "cell_type": "code",
   "execution_count": null,
   "metadata": {},
   "outputs": [
    {
     "data": {
      "text/plain": [
       "22835"
      ]
     },
     "execution_count": 106,
     "metadata": {},
     "output_type": "execute_result"
    }
   ],
   "source": [
    "len(bow_array_train[0])"
   ]
  },
  {
   "cell_type": "code",
   "execution_count": 27,
   "metadata": {},
   "outputs": [
    {
     "data": {
      "text/plain": [
       "22835"
      ]
     },
     "execution_count": 27,
     "metadata": {},
     "output_type": "execute_result"
    }
   ],
   "source": [
    "len(bow_array_test[0])"
   ]
  },
  {
   "cell_type": "code",
   "execution_count": 28,
   "metadata": {},
   "outputs": [
    {
     "ename": "NameError",
     "evalue": "name 'w' is not defined",
     "output_type": "error",
     "traceback": [
      "\u001b[0;31m---------------------------------------------------------------------------\u001b[0m",
      "\u001b[0;31mNameError\u001b[0m                                 Traceback (most recent call last)",
      "\u001b[0;32m<ipython-input-28-74c7db5447c3>\u001b[0m in \u001b[0;36m<module>\u001b[0;34m\u001b[0m\n\u001b[0;32m----> 1\u001b[0;31m \u001b[0mw\u001b[0m\u001b[0;34m\u001b[0m\u001b[0;34m\u001b[0m\u001b[0m\n\u001b[0m",
      "\u001b[0;31mNameError\u001b[0m: name 'w' is not defined"
     ]
    }
   ],
   "source": [
    "w"
   ]
  },
  {
   "cell_type": "code",
   "execution_count": null,
   "metadata": {},
   "outputs": [],
   "source": [
    "tf = TfidfVectorizer(stop_words='english', max_features=100, min_df=5) # Size Vector = 50 & Frequency kata yang dihitung minimal 3\n",
    "tfidf_train_vectors = tf.fit_transform(X_train)\n",
    "tfidf_test_vectors =tf.transform(X_test)"
   ]
  },
  {
   "cell_type": "code",
   "execution_count": null,
   "metadata": {},
   "outputs": [
    {
     "data": {
      "text/plain": [
       "2381    aviat mainten technician profil forward think ...\n",
       "938     qualiti assur associ summari enthusiast chemis...\n",
       "2369    aviat maintain profession summari year experi ...\n",
       "1018    sale profession summari talent construct manag...\n",
       "1406    execut chef summari bring culinari creativ str...\n",
       "                              ...                        \n",
       "2313    creativ director career focus creativ director...\n",
       "305     inform technolog support specialistnetwork spe...\n",
       "167     design stylist summari high achiev sale associ...\n",
       "61      summari chicago hr generalist offer recruit at...\n",
       "2299    eighth ninth tenth english teacher summari mot...\n",
       "Name: Cleaned_text, Length: 1738, dtype: object"
      ]
     },
     "execution_count": 55,
     "metadata": {},
     "output_type": "execute_result"
    }
   ],
   "source": [
    "X_train"
   ]
  },
  {
   "cell_type": "code",
   "execution_count": null,
   "metadata": {},
   "outputs": [
    {
     "data": {
      "text/plain": [
       "2381    [aviat, mainten, technician, profil, forward, ...\n",
       "938     [qualiti, assur, associ, summari, enthusiast, ...\n",
       "2369    [aviat, maintain, profession, summari, year, e...\n",
       "1018    [sale, profession, summari, talent, construct,...\n",
       "1406    [execut, chef, summari, bring, culinari, creat...\n",
       "                              ...                        \n",
       "2313    [creativ, director, career, focus, creativ, di...\n",
       "305     [inform, technolog, support, specialistnetwork...\n",
       "167     [design, stylist, summari, high, achiev, sale,...\n",
       "61      [summari, chicago, hr, generalist, offer, recr...\n",
       "2299    [eighth, ninth, tenth, english, teacher, summa...\n",
       "Name: Cleaned_text, Length: 1738, dtype: object"
      ]
     },
     "execution_count": 54,
     "metadata": {},
     "output_type": "execute_result"
    }
   ],
   "source": [
    "word_token"
   ]
  },
  {
   "cell_type": "code",
   "execution_count": null,
   "metadata": {},
   "outputs": [
    {
     "ename": "AttributeError",
     "evalue": "'numpy.ndarray' object has no attribute 'apply'",
     "output_type": "error",
     "traceback": [
      "\u001b[1;31m---------------------------------------------------------------------------\u001b[0m",
      "\u001b[1;31mAttributeError\u001b[0m                            Traceback (most recent call last)",
      "\u001b[1;32mc:\\Users\\isalo\\Documents\\Tugas\\Text Mining\\AoL\\Resume-Classification-Using-Machine-Learning-Models\\Resume Classification Using Machine Learning Models.ipynb Cell 32\u001b[0m line \u001b[0;36m1\n\u001b[1;32m----> <a href='vscode-notebook-cell:/c%3A/Users/isalo/Documents/Tugas/Text%20Mining/AoL/Resume-Classification-Using-Machine-Learning-Models/Resume%20Classification%20Using%20Machine%20Learning%20Models.ipynb#X41sZmlsZQ%3D%3D?line=0'>1</a>\u001b[0m word_token \u001b[39m=\u001b[39m bow_array\u001b[39m.\u001b[39mapply(word_tokenize_wrapper)\n",
      "\u001b[1;31mAttributeError\u001b[0m: 'numpy.ndarray' object has no attribute 'apply'"
     ]
    }
   ],
   "source": [
    "word_token = X_train.apply(word_tokenize_wrapper)\n",
    "model_cbow = gensim.models.Word2Vec(word_token, min_count = 1, vector_size = 100, window = 5, sg=0)"
   ]
  },
  {
   "cell_type": "markdown",
   "metadata": {},
   "source": [
    "## 3. Exploratory Data Analysis"
   ]
  },
  {
   "cell_type": "code",
   "execution_count": null,
   "metadata": {},
   "outputs": [],
   "source": [
    "from nltk.tokenize import word_tokenize"
   ]
  },
  {
   "cell_type": "code",
   "execution_count": null,
   "metadata": {},
   "outputs": [
    {
     "data": {
      "text/html": [
       "<div>\n",
       "<style scoped>\n",
       "    .dataframe tbody tr th:only-of-type {\n",
       "        vertical-align: middle;\n",
       "    }\n",
       "\n",
       "    .dataframe tbody tr th {\n",
       "        vertical-align: top;\n",
       "    }\n",
       "\n",
       "    .dataframe thead th {\n",
       "        text-align: right;\n",
       "    }\n",
       "</style>\n",
       "<table border=\"1\" class=\"dataframe\">\n",
       "  <thead>\n",
       "    <tr style=\"text-align: right;\">\n",
       "      <th></th>\n",
       "      <th>Cleaned_text</th>\n",
       "      <th>Category</th>\n",
       "      <th>Labeled_category</th>\n",
       "    </tr>\n",
       "  </thead>\n",
       "  <tbody>\n",
       "    <tr>\n",
       "      <th>0</th>\n",
       "      <td>hr administr market associ hr administr summar...</td>\n",
       "      <td>HR</td>\n",
       "      <td>16</td>\n",
       "    </tr>\n",
       "    <tr>\n",
       "      <th>1</th>\n",
       "      <td>hr specialist us hr oper summari versatil medi...</td>\n",
       "      <td>HR</td>\n",
       "      <td>16</td>\n",
       "    </tr>\n",
       "    <tr>\n",
       "      <th>2</th>\n",
       "      <td>hr director summari year experi recruit plus y...</td>\n",
       "      <td>HR</td>\n",
       "      <td>16</td>\n",
       "    </tr>\n",
       "    <tr>\n",
       "      <th>3</th>\n",
       "      <td>hr specialist summari dedic driven dynam year ...</td>\n",
       "      <td>HR</td>\n",
       "      <td>16</td>\n",
       "    </tr>\n",
       "    <tr>\n",
       "      <th>4</th>\n",
       "      <td>hr manag skill highlight hr skill hr depart st...</td>\n",
       "      <td>HR</td>\n",
       "      <td>16</td>\n",
       "    </tr>\n",
       "    <tr>\n",
       "      <th>...</th>\n",
       "      <td>...</td>\n",
       "      <td>...</td>\n",
       "      <td>...</td>\n",
       "    </tr>\n",
       "    <tr>\n",
       "      <th>2479</th>\n",
       "      <td>rank sgt e non commiss offic charg brigad mail...</td>\n",
       "      <td>AVIATION</td>\n",
       "      <td>8</td>\n",
       "    </tr>\n",
       "    <tr>\n",
       "      <th>2480</th>\n",
       "      <td>govern relat communic organiz develop director...</td>\n",
       "      <td>AVIATION</td>\n",
       "      <td>8</td>\n",
       "    </tr>\n",
       "    <tr>\n",
       "      <th>2481</th>\n",
       "      <td>geek squad agent profession profil support spe...</td>\n",
       "      <td>AVIATION</td>\n",
       "      <td>8</td>\n",
       "    </tr>\n",
       "    <tr>\n",
       "      <th>2482</th>\n",
       "      <td>program director offic manag summari high pers...</td>\n",
       "      <td>AVIATION</td>\n",
       "      <td>8</td>\n",
       "    </tr>\n",
       "    <tr>\n",
       "      <th>2483</th>\n",
       "      <td>storekeep ii profession summari purpos documen...</td>\n",
       "      <td>AVIATION</td>\n",
       "      <td>8</td>\n",
       "    </tr>\n",
       "  </tbody>\n",
       "</table>\n",
       "<p>2484 rows × 3 columns</p>\n",
       "</div>"
      ],
      "text/plain": [
       "                                           Cleaned_text  Category  \\\n",
       "0     hr administr market associ hr administr summar...        HR   \n",
       "1     hr specialist us hr oper summari versatil medi...        HR   \n",
       "2     hr director summari year experi recruit plus y...        HR   \n",
       "3     hr specialist summari dedic driven dynam year ...        HR   \n",
       "4     hr manag skill highlight hr skill hr depart st...        HR   \n",
       "...                                                 ...       ...   \n",
       "2479  rank sgt e non commiss offic charg brigad mail...  AVIATION   \n",
       "2480  govern relat communic organiz develop director...  AVIATION   \n",
       "2481  geek squad agent profession profil support spe...  AVIATION   \n",
       "2482  program director offic manag summari high pers...  AVIATION   \n",
       "2483  storekeep ii profession summari purpos documen...  AVIATION   \n",
       "\n",
       "      Labeled_category  \n",
       "0                   16  \n",
       "1                   16  \n",
       "2                   16  \n",
       "3                   16  \n",
       "4                   16  \n",
       "...                ...  \n",
       "2479                 8  \n",
       "2480                 8  \n",
       "2481                 8  \n",
       "2482                 8  \n",
       "2483                 8  \n",
       "\n",
       "[2484 rows x 3 columns]"
      ]
     },
     "execution_count": 48,
     "metadata": {},
     "output_type": "execute_result"
    }
   ],
   "source": [
    "df_cleaned[]"
   ]
  },
  {
   "cell_type": "code",
   "execution_count": null,
   "metadata": {},
   "outputs": [
    {
     "data": {
      "text/plain": [
       "'execut chef summari bring culinari creativ strong leadership foundat hard work twenti year experi mani fascist restaur busi bring would asset anyon team skill resourc chef lead exampl experi execut chef march april compani name citi state regular develop new recip accord consum tast nutrit need budgetari consider interview hire back hous employe systemat tast smell prepar dish observ color textur garnish effect manag assist kitchen staff produc food banquet cater event larg sport event comedi show ensur smooth kitchen oper overse daili product inventori purchas receiv display posit friend attitud toward custom fellow team member assist kitchen design expert estim staf need adjust hour schedul accord demand pattern budget quarter menu test staff consist produc except menu item regular garner diner prais execut chef januari februari compani name citi state creat menus outlet includ breakfast lunch dinner bar menu provid courteous inform custom servic open kitchen format display posit friend attitud toward custom fellow team member club member systemat tast smell prepar dish observ color textur garnish collabor close food beverag director conduct staff meet resolv servic product personnel issu effect manag assist kitchen staff produc food banquet cater event member dine area establish maintain open collabor relationship kitchen team conduct nd interview hire back hous staff expert estim staf need adjust hour schedul accord demand pattern budget saw sous chef work respons lead line cook octob januari compani name citi state station work respons ticket time coordin flow food well grill broiler cut whole fresh fish trim filet set perform initi prep work food item soup sauc salad prepar shift place clean cut board utensil bath workstat correct safe oper kitchen equip accord set guidelin assist product food banquet cater event sous chef januari octob compani name citi state work station kitchen train new hire recreat chef special systemat tast smell prepar dish observ color textur garnish collabor close chef gm conduct staff meet resolv servic product personnel issu implement support compani initi program effect manag assist kitchen staff produc food banquet cater event member dine area consist kept clean safe environ adher feder state local sanit safeti requir establish maintain open collabor relationship kitchen team set perform initi prep work food item soup sauc salad prepar shift place clean cut board utensil bath workstat ensur smooth kitchen oper overse daili product inventori purchas receiv lead chef februari septemb compani name citi state implement support compani initi program chappi l kitchen ensur smooth kitchen oper overse daili product inventori purchas receiv consist kept clean safe environ adher chappi standard follow proper food handl method maintain correct temperatur food product establish maintain open collabor relationship kitchen team wait staff consist produc except menu item regular garner diner prais set perform initi prep work food item soup sauc salad prepar shift place clean cut board utensil bath workstat effect manag assist kitchen staff produc food banquet cater event member dine area educ diploma culinari art pinella technic educ center citi state culinari art florida restaur associ achiev award top class food prepar kitchen manag patisseri confectioneri intern cuisin general cours johnson wale univers citi state american continent cuisin stock sauc bake pastri dine room essenti gibb high school citi state general educ cours studi attend four year r c leadership train interest good member anyon team includ take ownership perform best get job done ownership leadership bring well creativ enthusiasm hard work great attitud addit inform would great addit good member anyon team includ take ownership perform best get job done ownership leadership bring well creativ enthusiasm hard work great attitud skill attent detail budget c color cost control custom servic focus inventori leadership skill leadership train director meet personnel pos produc purchas fast learner receiv safeti staf'"
      ]
     },
     "execution_count": 46,
     "metadata": {},
     "output_type": "execute_result"
    }
   ],
   "source": [
    "X_train.iloc[4,]"
   ]
  },
  {
   "cell_type": "code",
   "execution_count": null,
   "metadata": {},
   "outputs": [],
   "source": [
    "tokenized = [word_tokenize(X_train.iloc[i,]) for i in range(len(X_train))]"
   ]
  },
  {
   "cell_type": "code",
   "execution_count": null,
   "metadata": {},
   "outputs": [
    {
     "data": {
      "text/plain": [
       "Category\n",
       "INFORMATION-TECHNOLOGY    120\n",
       "BUSINESS-DEVELOPMENT      120\n",
       "FINANCE                   118\n",
       "ADVOCATE                  118\n",
       "ACCOUNTANT                118\n",
       "ENGINEERING               118\n",
       "CHEF                      118\n",
       "AVIATION                  117\n",
       "FITNESS                   117\n",
       "SALES                     116\n",
       "BANKING                   115\n",
       "HEALTHCARE                115\n",
       "CONSULTANT                115\n",
       "CONSTRUCTION              112\n",
       "PUBLIC-RELATIONS          111\n",
       "HR                        110\n",
       "DESIGNER                  107\n",
       "ARTS                      103\n",
       "TEACHER                   102\n",
       "APPAREL                    97\n",
       "DIGITAL-MEDIA              96\n",
       "AGRICULTURE                63\n",
       "AUTOMOBILE                 36\n",
       "BPO                        22\n",
       "Name: count, dtype: int64"
      ]
     },
     "execution_count": 58,
     "metadata": {},
     "output_type": "execute_result"
    }
   ],
   "source": [
    "from sklearn.feature_extraction.text import CountVectorizer\n",
    "\n",
    "from yellowbrick.text import FreqDistVisualizer\n",
    "from yellowbrick.datasets import load_hobbies\n",
    "\n",
    "# Load the text data\n",
    "corpus = X_train\n",
    "\n",
    "vectorizer = CountVectorizer()\n",
    "docs       = vectorizer.fit_transform(corpus.data)\n",
    "features   = vectorizer.get_feature_names()\n",
    "\n",
    "visualizer = FreqDistVisualizer(features=features, orient='v')\n",
    "visualizer.fit(docs)\n",
    "visualizer.show()"
   ]
  },
  {
   "cell_type": "code",
   "execution_count": null,
   "metadata": {},
   "outputs": [
    {
     "data": {
      "text/html": [
       "<div>\n",
       "<style scoped>\n",
       "    .dataframe tbody tr th:only-of-type {\n",
       "        vertical-align: middle;\n",
       "    }\n",
       "\n",
       "    .dataframe tbody tr th {\n",
       "        vertical-align: top;\n",
       "    }\n",
       "\n",
       "    .dataframe thead th {\n",
       "        text-align: right;\n",
       "    }\n",
       "</style>\n",
       "<table border=\"1\" class=\"dataframe\">\n",
       "  <thead>\n",
       "    <tr style=\"text-align: right;\">\n",
       "      <th></th>\n",
       "      <th>Cleaned_text</th>\n",
       "      <th>Category</th>\n",
       "      <th>Labeled_category</th>\n",
       "    </tr>\n",
       "  </thead>\n",
       "  <tbody>\n",
       "    <tr>\n",
       "      <th>0</th>\n",
       "      <td>hr administr market associ hr administr summar...</td>\n",
       "      <td>HR</td>\n",
       "      <td>16</td>\n",
       "    </tr>\n",
       "    <tr>\n",
       "      <th>1</th>\n",
       "      <td>hr specialist us hr oper summari versatil medi...</td>\n",
       "      <td>HR</td>\n",
       "      <td>16</td>\n",
       "    </tr>\n",
       "    <tr>\n",
       "      <th>2</th>\n",
       "      <td>hr director summari year experi recruit plus y...</td>\n",
       "      <td>HR</td>\n",
       "      <td>16</td>\n",
       "    </tr>\n",
       "    <tr>\n",
       "      <th>3</th>\n",
       "      <td>hr specialist summari dedic driven dynam year ...</td>\n",
       "      <td>HR</td>\n",
       "      <td>16</td>\n",
       "    </tr>\n",
       "    <tr>\n",
       "      <th>4</th>\n",
       "      <td>hr manag skill highlight hr skill hr depart st...</td>\n",
       "      <td>HR</td>\n",
       "      <td>16</td>\n",
       "    </tr>\n",
       "    <tr>\n",
       "      <th>...</th>\n",
       "      <td>...</td>\n",
       "      <td>...</td>\n",
       "      <td>...</td>\n",
       "    </tr>\n",
       "    <tr>\n",
       "      <th>2479</th>\n",
       "      <td>rank sgt e non commiss offic charg brigad mail...</td>\n",
       "      <td>AVIATION</td>\n",
       "      <td>8</td>\n",
       "    </tr>\n",
       "    <tr>\n",
       "      <th>2480</th>\n",
       "      <td>govern relat communic organiz develop director...</td>\n",
       "      <td>AVIATION</td>\n",
       "      <td>8</td>\n",
       "    </tr>\n",
       "    <tr>\n",
       "      <th>2481</th>\n",
       "      <td>geek squad agent profess profil support specia...</td>\n",
       "      <td>AVIATION</td>\n",
       "      <td>8</td>\n",
       "    </tr>\n",
       "    <tr>\n",
       "      <th>2482</th>\n",
       "      <td>program director offic manag summari high pers...</td>\n",
       "      <td>AVIATION</td>\n",
       "      <td>8</td>\n",
       "    </tr>\n",
       "    <tr>\n",
       "      <th>2483</th>\n",
       "      <td>storekeep ii profess summari purpo document se...</td>\n",
       "      <td>AVIATION</td>\n",
       "      <td>8</td>\n",
       "    </tr>\n",
       "  </tbody>\n",
       "</table>\n",
       "<p>2484 rows × 3 columns</p>\n",
       "</div>"
      ],
      "text/plain": [
       "                                           Cleaned_text  Category  \\\n",
       "0     hr administr market associ hr administr summar...        HR   \n",
       "1     hr specialist us hr oper summari versatil medi...        HR   \n",
       "2     hr director summari year experi recruit plus y...        HR   \n",
       "3     hr specialist summari dedic driven dynam year ...        HR   \n",
       "4     hr manag skill highlight hr skill hr depart st...        HR   \n",
       "...                                                 ...       ...   \n",
       "2479  rank sgt e non commiss offic charg brigad mail...  AVIATION   \n",
       "2480  govern relat communic organiz develop director...  AVIATION   \n",
       "2481  geek squad agent profess profil support specia...  AVIATION   \n",
       "2482  program director offic manag summari high pers...  AVIATION   \n",
       "2483  storekeep ii profess summari purpo document se...  AVIATION   \n",
       "\n",
       "      Labeled_category  \n",
       "0                   16  \n",
       "1                   16  \n",
       "2                   16  \n",
       "3                   16  \n",
       "4                   16  \n",
       "...                ...  \n",
       "2479                 8  \n",
       "2480                 8  \n",
       "2481                 8  \n",
       "2482                 8  \n",
       "2483                 8  \n",
       "\n",
       "[2484 rows x 3 columns]"
      ]
     },
     "execution_count": 65,
     "metadata": {},
     "output_type": "execute_result"
    }
   ],
   "source": [
    "df_cleaned"
   ]
  },
  {
   "cell_type": "code",
   "execution_count": null,
   "metadata": {},
   "outputs": [
    {
     "name": "stdout",
     "output_type": "stream",
     "text": [
      "<class 'pandas.core.frame.DataFrame'>\n",
      "RangeIndex: 2484 entries, 0 to 2483\n",
      "Data columns (total 3 columns):\n",
      " #   Column            Non-Null Count  Dtype \n",
      "---  ------            --------------  ----- \n",
      " 0   Cleaned_text      2484 non-null   object\n",
      " 1   Category          2484 non-null   object\n",
      " 2   Labeled_category  2484 non-null   int64 \n",
      "dtypes: int64(1), object(2)\n",
      "memory usage: 58.3+ KB\n"
     ]
    }
   ],
   "source": [
    " df_cleaned.info()"
   ]
  },
  {
   "cell_type": "code",
   "execution_count": null,
   "metadata": {},
   "outputs": [
    {
     "data": {
      "text/plain": [
       "<Axes: >"
      ]
     },
     "execution_count": 55,
     "metadata": {},
     "output_type": "execute_result"
    },
    {
     "data": {
      "image/png": "[encoded data removed]",
      "text/plain": [
       "<Figure size 800x550 with 1 Axes>"
      ]
     },
     "metadata": {},
     "output_type": "display_data"
    }
   ],
   "source": [
    "df_cleaned['Labeled_category'].hist()"
   ]
  },
  {
   "cell_type": "markdown",
   "metadata": {},
   "source": [
    "## 4. Model Training"
   ]
  },
  {
   "cell_type": "code",
   "execution_count": 23,
   "metadata": {},
   "outputs": [],
   "source": [
    "def learning_curve(model):\n",
    "    cv = StratifiedKFold(n_splits=3, shuffle= True, random_state= 42)\n",
    "    visualizer = LearningCurve(model, scoring='f1_weighted', cv=cv)\n",
    "    visualizer.fit(bow_array_train, y_train)        # Fit the data to the visualizer\n",
    "    visualizer.show() "
   ]
  },
  {
   "cell_type": "code",
   "execution_count": 29,
   "metadata": {},
   "outputs": [
    {
     "data": {
      "image/png": "[encoded data removed]",
      "text/plain": [
       "<Figure size 576x396 with 1 Axes>"
      ]
     },
     "metadata": {},
     "output_type": "display_data"
    }
   ],
   "source": [
    "learning_curve(SVC()) "
   ]
  },
  {
   "cell_type": "code",
   "execution_count": null,
   "metadata": {},
   "outputs": [
    {
     "data": {
      "image/png": "[encoded data removed]",
      "text/plain": [
       "<Figure size 800x550 with 1 Axes>"
      ]
     },
     "metadata": {},
     "output_type": "display_data"
    }
   ],
   "source": [
    "from sklearn.ensemble import AdaBoostClassifier\n",
    "learning_curve(AdaBoostClassifier())"
   ]
  },
  {
   "cell_type": "code",
   "execution_count": 30,
   "metadata": {},
   "outputs": [
    {
     "data": {
      "text/plain": [
       "SVC()"
      ]
     },
     "execution_count": 30,
     "metadata": {},
     "output_type": "execute_result"
    }
   ],
   "source": [
    "svm = SVC()\n",
    "svm.fit(bow_array_train,y_train)"
   ]
  },
  {
   "cell_type": "code",
   "execution_count": 31,
   "metadata": {},
   "outputs": [
    {
     "name": "stdout",
     "output_type": "stream",
     "text": [
      "              precision    recall  f1-score   support\n",
      "\n",
      "           1       0.67      0.63      0.65        38\n",
      "           2       0.53      0.44      0.48        43\n",
      "           3       0.63      0.79      0.70        28\n",
      "           4       0.66      0.33      0.44        70\n",
      "           5       0.80      0.70      0.75        40\n",
      "           6       0.71      0.60      0.65        42\n",
      "           7       0.77      0.87      0.82        31\n",
      "           8       0.63      0.61      0.62        36\n",
      "           9       0.46      0.67      0.54        24\n",
      "          10       0.60      0.30      0.40        71\n",
      "          11       0.60      0.72      0.66        29\n",
      "          12       0.29      0.43      0.34        23\n",
      "          13       0.37      0.29      0.33        45\n",
      "          14       0.79      0.84      0.82        32\n",
      "          15       0.70      0.74      0.72        31\n",
      "          16       0.79      0.74      0.76        35\n",
      "          17       0.75      0.92      0.83        26\n",
      "          18       0.32      0.42      0.36        24\n",
      "          19       0.71      0.71      0.71        31\n",
      "          20       0.28      0.47      0.35        17\n",
      "          21       0.41      0.52      0.46        23\n",
      "          22       0.37      1.00      0.54         7\n",
      "          23       0.00      0.00      0.00         0\n",
      "          24       0.00      0.00      0.00         0\n",
      "\n",
      "    accuracy                           0.58       746\n",
      "   macro avg       0.53      0.57      0.54       746\n",
      "weighted avg       0.61      0.58      0.58       746\n",
      "\n"
     ]
    },
    {
     "name": "stderr",
     "output_type": "stream",
     "text": [
      "/home/ubuntu/anaconda3/lib/python3.7/site-packages/sklearn/metrics/_classification.py:1318: UndefinedMetricWarning: Recall and F-score are ill-defined and being set to 0.0 in labels with no true samples. Use `zero_division` parameter to control this behavior.\n",
      "  _warn_prf(average, modifier, msg_start, len(result))\n",
      "/home/ubuntu/anaconda3/lib/python3.7/site-packages/sklearn/metrics/_classification.py:1318: UndefinedMetricWarning: Recall and F-score are ill-defined and being set to 0.0 in labels with no true samples. Use `zero_division` parameter to control this behavior.\n",
      "  _warn_prf(average, modifier, msg_start, len(result))\n",
      "/home/ubuntu/anaconda3/lib/python3.7/site-packages/sklearn/metrics/_classification.py:1318: UndefinedMetricWarning: Recall and F-score are ill-defined and being set to 0.0 in labels with no true samples. Use `zero_division` parameter to control this behavior.\n",
      "  _warn_prf(average, modifier, msg_start, len(result))\n"
     ]
    }
   ],
   "source": [
    "print(classification_report(svm.predict(bow_array_test),y_test))"
   ]
  },
  {
   "cell_type": "code",
   "execution_count": 33,
   "metadata": {},
   "outputs": [
    {
     "data": {
      "image/png": "[encoded data removed]",
      "text/plain": [
       "<Figure size 576x396 with 1 Axes>"
      ]
     },
     "metadata": {},
     "output_type": "display_data"
    }
   ],
   "source": [
    "learning_curve(SVC(kernel='linear',class_weight='balanced'))"
   ]
  },
  {
   "cell_type": "code",
   "execution_count": 34,
   "metadata": {},
   "outputs": [
    {
     "data": {
      "text/plain": [
       "SVC(class_weight='balanced', kernel='linear')"
      ]
     },
     "execution_count": 34,
     "metadata": {},
     "output_type": "execute_result"
    }
   ],
   "source": [
    "svm_linear = SVC(kernel='linear',class_weight='balanced')\n",
    "svm_linear.fit(bow_array_train,y_train)"
   ]
  },
  {
   "cell_type": "code",
   "execution_count": 35,
   "metadata": {},
   "outputs": [
    {
     "name": "stdout",
     "output_type": "stream",
     "text": [
      "              precision    recall  f1-score   support\n",
      "\n",
      "           1       0.67      0.73      0.70        33\n",
      "           2       0.53      0.41      0.46        46\n",
      "           3       0.71      0.81      0.76        31\n",
      "           4       0.57      0.41      0.48        49\n",
      "           5       0.83      0.76      0.79        38\n",
      "           6       0.71      0.66      0.68        38\n",
      "           7       0.80      0.76      0.78        37\n",
      "           8       0.63      0.61      0.62        36\n",
      "           9       0.51      0.64      0.57        28\n",
      "          10       0.66      0.48      0.55        48\n",
      "          11       0.71      0.69      0.70        36\n",
      "          12       0.34      0.46      0.39        26\n",
      "          13       0.46      0.44      0.45        36\n",
      "          14       0.82      0.80      0.81        35\n",
      "          15       0.64      0.60      0.62        35\n",
      "          16       0.91      0.79      0.85        38\n",
      "          17       0.72      0.82      0.77        28\n",
      "          18       0.35      0.34      0.35        32\n",
      "          19       0.61      0.68      0.64        28\n",
      "          20       0.48      0.61      0.54        23\n",
      "          21       0.52      0.58      0.55        26\n",
      "          22       0.42      0.67      0.52        12\n",
      "          23       0.09      0.33      0.14         3\n",
      "          24       0.14      0.25      0.18         4\n",
      "\n",
      "    accuracy                           0.61       746\n",
      "   macro avg       0.58      0.60      0.58       746\n",
      "weighted avg       0.63      0.61      0.62       746\n",
      "\n"
     ]
    }
   ],
   "source": [
    "print(classification_report(svm_linear.predict(bow_array_test),y_test))"
   ]
  },
  {
   "cell_type": "code",
   "execution_count": 52,
   "metadata": {},
   "outputs": [
    {
     "data": {
      "image/png": "[encoded data removed]",
      "text/plain": [
       "<Figure size 576x396 with 1 Axes>"
      ]
     },
     "metadata": {},
     "output_type": "display_data"
    }
   ],
   "source": [
    "learning_curve(GradientBoostingClassifier())"
   ]
  },
  {
   "cell_type": "code",
   "execution_count": 49,
   "metadata": {},
   "outputs": [
    {
     "data": {
      "text/plain": [
       "GradientBoostingClassifier()"
      ]
     },
     "execution_count": 49,
     "metadata": {},
     "output_type": "execute_result"
    }
   ],
   "source": [
    "from sklearn.ensemble import GradientBoostingClassifier\n",
    "g_boost = GradientBoostingClassifier()\n",
    "g_boost.fit(bow_array_train, y_train)"
   ]
  },
  {
   "cell_type": "code",
   "execution_count": 50,
   "metadata": {},
   "outputs": [
    {
     "name": "stdout",
     "output_type": "stream",
     "text": [
      "              precision    recall  f1-score   support\n",
      "\n",
      "           1       0.56      0.80      0.66        25\n",
      "           2       0.47      0.50      0.49        34\n",
      "           3       0.60      0.75      0.67        28\n",
      "           4       0.83      0.83      0.83        35\n",
      "           5       0.77      0.71      0.74        38\n",
      "           6       0.71      0.66      0.68        38\n",
      "           7       0.94      0.89      0.92        37\n",
      "           8       0.91      0.89      0.90        36\n",
      "           9       0.74      0.81      0.78        32\n",
      "          10       0.77      0.42      0.54        65\n",
      "          11       0.60      0.68      0.64        31\n",
      "          12       0.74      0.63      0.68        41\n",
      "          13       0.66      0.50      0.57        46\n",
      "          14       0.94      0.76      0.84        42\n",
      "          15       0.64      0.88      0.74        24\n",
      "          16       0.91      0.79      0.85        38\n",
      "          17       0.72      0.70      0.71        33\n",
      "          18       0.45      0.64      0.53        22\n",
      "          19       0.87      0.71      0.78        38\n",
      "          20       0.38      0.73      0.50        15\n",
      "          21       0.59      0.68      0.63        25\n",
      "          22       0.42      0.80      0.55        10\n",
      "          23       0.09      0.33      0.14         3\n",
      "          24       0.86      0.60      0.71        10\n",
      "\n",
      "    accuracy                           0.69       746\n",
      "   macro avg       0.67      0.70      0.67       746\n",
      "weighted avg       0.73      0.69      0.70       746\n",
      "\n"
     ]
    }
   ],
   "source": [
    "print(classification_report(g_boost.predict(bow_array_test),y_test))"
   ]
  },
  {
   "cell_type": "markdown",
   "metadata": {},
   "source": [
    "## 5. Model Evaluation"
   ]
  }
 ],
 "metadata": {
  "kernelspec": {
   "display_name": "Python (GPU)",
   "language": "python",
   "name": "gpu_env"
  },
  "language_info": {
   "codemirror_mode": {
    "name": "ipython",
    "version": 3
   },
   "file_extension": ".py",
   "mimetype": "text/x-python",
   "name": "python",
   "nbconvert_exporter": "python",
   "pygments_lexer": "ipython3",
   "version": "3.11.5"
  }
 },
 "nbformat": 4,
 "nbformat_minor": 2
}
